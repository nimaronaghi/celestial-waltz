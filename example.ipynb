{
  "cells": [
    {
      "cell_type": "markdown",
      "metadata": {},
      "source": [
        "# Galaxy Simulation Example\n",
        "This notebook demonstrates how to launch the Tk based galaxy simulation."
      ]
    },
    {
      "cell_type": "code",
      "execution_count": null,
      "metadata": {},
      "outputs": [],
      "source": [
        "from galaxy_gui import GalaxyApp\n",
        "app = GalaxyApp()\n",
        "app.run()"
      ]
    },
    {
      "cell_type": "code",
      "metadata": {},
      "execution_count": null,
      "outputs": [],
      "source": [
        "from nbody import BarnesHutSimulation\n",
        "from recorder import SimulationRecorder\n",
        "rec = SimulationRecorder(200)\n",
        "sim = BarnesHutSimulation(num_particles=200, dt=0.01, recorder=rec)\n",
        "sim.run(100)\n",
        "rec.save('simulation.bin')"
      ]
    }
  ],
  "metadata": {
    "kernelspec": {
      "display_name": "Python 3",
      "language": "python",
      "name": "python3"
    },
    "language_info": {
      "name": "python",
      "version": "3.12"
    }
  },
  "nbformat": 4,
  "nbformat_minor": 5
}
